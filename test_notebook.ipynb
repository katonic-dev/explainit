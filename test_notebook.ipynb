{
 "cells": [
  {
   "cell_type": "code",
   "execution_count": 1,
   "metadata": {},
   "outputs": [],
   "source": [
    "from explainit.app import build"
   ]
  },
  {
   "cell_type": "code",
   "execution_count": 2,
   "metadata": {},
   "outputs": [],
   "source": [
    "import pandas as pd\n",
    "from sklearn import datasets\n",
    "from sklearn.model_selection import train_test_split\n",
    "\n",
    "# cancer_data = datasets.load_boston()\n",
    "# cancer_dataframe = pd.DataFrame(cancer_data.data, columns = cancer_data.feature_names)\n",
    "# cancer_dataframe['target'] = cancer_data.target\n",
    "# ref_data, cur_data = train_test_split(cancer_dataframe, random_state = 69, train_size=0.80, shuffle=True)\n",
    "\n",
    "# cancer_dataframe = pd.DataFrame(cancer_data.data, columns = cancer_data.feature_names)\n",
    "cancer_dataframe = pd.read_csv(\"https://raw.githubusercontent.com/katonic-dev/Examples/master/katonic-sdk/end-to-end-example/datasets/loan_default.csv\").drop(\"event_timestamp\", axis = 1)\n",
    "# \n",
    "# cancer_dataframe['target'] = cancer_data.target\n",
    "ref_data, cur_data = train_test_split(cancer_dataframe, train_size=0.80, random_state=69, shuffle=True)"
   ]
  },
  {
   "cell_type": "code",
   "execution_count": 3,
   "metadata": {},
   "outputs": [
    {
     "ename": "TypeError",
     "evalue": "build() got an unexpected keyword argument 'train_data'",
     "output_type": "error",
     "traceback": [
      "\u001b[1;31m---------------------------------------------------------------------------\u001b[0m",
      "\u001b[1;31mTypeError\u001b[0m                                 Traceback (most recent call last)",
      "\u001b[1;32mc:\\Users\\vinaynamani\\Downloads\\katonic\\github\\explainit\\test_notebook.ipynb Cell 3\u001b[0m in \u001b[0;36m<module>\u001b[1;34m\u001b[0m\n\u001b[1;32m----> <a href='vscode-notebook-cell:/c%3A/Users/vinaynamani/Downloads/katonic/github/explainit/test_notebook.ipynb#W2sZmlsZQ%3D%3D?line=0'>1</a>\u001b[0m build(\n\u001b[0;32m      <a href='vscode-notebook-cell:/c%3A/Users/vinaynamani/Downloads/katonic/github/explainit/test_notebook.ipynb#W2sZmlsZQ%3D%3D?line=1'>2</a>\u001b[0m   train_data\u001b[39m=\u001b[39;49mref_data,\n\u001b[0;32m      <a href='vscode-notebook-cell:/c%3A/Users/vinaynamani/Downloads/katonic/github/explainit/test_notebook.ipynb#W2sZmlsZQ%3D%3D?line=2'>3</a>\u001b[0m   test_data\u001b[39m=\u001b[39;49mcur_data,\n\u001b[0;32m      <a href='vscode-notebook-cell:/c%3A/Users/vinaynamani/Downloads/katonic/github/explainit/test_notebook.ipynb#W2sZmlsZQ%3D%3D?line=3'>4</a>\u001b[0m   target_column_name\u001b[39m=\u001b[39;49m\u001b[39m\"\u001b[39;49m\u001b[39mbad_loan\u001b[39;49m\u001b[39m\"\u001b[39;49m,\n\u001b[0;32m      <a href='vscode-notebook-cell:/c%3A/Users/vinaynamani/Downloads/katonic/github/explainit/test_notebook.ipynb#W2sZmlsZQ%3D%3D?line=4'>5</a>\u001b[0m   target_column_type\u001b[39m=\u001b[39;49m\u001b[39m\"\u001b[39;49m\u001b[39mcat\u001b[39;49m\u001b[39m\"\u001b[39;49m,\n\u001b[0;32m      <a href='vscode-notebook-cell:/c%3A/Users/vinaynamani/Downloads/katonic/github/explainit/test_notebook.ipynb#W2sZmlsZQ%3D%3D?line=5'>6</a>\u001b[0m   host\u001b[39m=\u001b[39;49m\u001b[39m\"\u001b[39;49m\u001b[39m127.0.0.1\u001b[39;49m\u001b[39m\"\u001b[39;49m,\n\u001b[0;32m      <a href='vscode-notebook-cell:/c%3A/Users/vinaynamani/Downloads/katonic/github/explainit/test_notebook.ipynb#W2sZmlsZQ%3D%3D?line=6'>7</a>\u001b[0m   port\u001b[39m=\u001b[39;49m\u001b[39m8050\u001b[39;49m\n\u001b[0;32m      <a href='vscode-notebook-cell:/c%3A/Users/vinaynamani/Downloads/katonic/github/explainit/test_notebook.ipynb#W2sZmlsZQ%3D%3D?line=7'>8</a>\u001b[0m )\n",
      "\u001b[1;31mTypeError\u001b[0m: build() got an unexpected keyword argument 'train_data'"
     ]
    }
   ],
   "source": [
    "build(\n",
    "  reference_data=ref_data,\n",
    "  current_data=cur_data,\n",
    "  target_column_name=\"bad_loan\",\n",
    "  target_column_type=\"cat\",\n",
    "  host=\"127.0.0.1\",\n",
    "  port=8050\n",
    ")"
   ]
  },
  {
   "cell_type": "code",
   "execution_count": null,
   "metadata": {},
   "outputs": [],
   "source": []
  },
  {
   "cell_type": "code",
   "execution_count": null,
   "metadata": {},
   "outputs": [],
   "source": []
  },
  {
   "cell_type": "code",
   "execution_count": 4,
   "metadata": {},
   "outputs": [
    {
     "data": {
      "text/plain": [
       "Graph(figure={'data': [{'x': [1, 2, 3], 'y': [4, 1, 2], 'type': 'bar', 'name': 'SF'}, {'x': [1, 2, 3], 'y': [2, 4, 5], 'type': 'bar', 'name': 'Montréal'}], 'layout': {'title': 'Dash Data Visualization'}})"
      ]
     },
     "execution_count": 4,
     "metadata": {},
     "output_type": "execute_result"
    }
   ],
   "source": [
    "from dash import dcc\n",
    "\n",
    "dcc.Graph(\n",
    "    figure={\n",
    "        'data': [\n",
    "            {'x': [1, 2, 3], 'y': [4, 1, 2], 'type': 'bar', 'name': 'SF'},\n",
    "            {'x': [1, 2, 3], 'y': [2, 4, 5], 'type': 'bar', 'name': u'Montréal'},\n",
    "        ],\n",
    "        'layout': {\n",
    "            'title': 'Dash Data Visualization'\n",
    "        }\n",
    "    }\n",
    ")"
   ]
  },
  {
   "cell_type": "code",
   "execution_count": null,
   "metadata": {},
   "outputs": [],
   "source": []
  }
 ],
 "metadata": {
  "kernelspec": {
   "display_name": "Python 3.9.7 ('base')",
   "language": "python",
   "name": "python3"
  },
  "language_info": {
   "codemirror_mode": {
    "name": "ipython",
    "version": 3
   },
   "file_extension": ".py",
   "mimetype": "text/x-python",
   "name": "python",
   "nbconvert_exporter": "python",
   "pygments_lexer": "ipython3",
   "version": "3.9.7"
  },
  "orig_nbformat": 4,
  "vscode": {
   "interpreter": {
    "hash": "11025677116e165e7219680d61ad834a506f39d0c3794994482b45756596cd1d"
   }
  }
 },
 "nbformat": 4,
 "nbformat_minor": 2
}
