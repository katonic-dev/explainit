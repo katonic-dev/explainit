{
 "cells": [
  {
   "cell_type": "markdown",
   "metadata": {},
   "source": [
    "# Getting Started with Explainit"
   ]
  },
  {
   "cell_type": "code",
   "execution_count": null,
   "metadata": {},
   "outputs": [],
   "source": [
    "# install explainit\n",
    "!pip install explainit==1.1"
   ]
  },
  {
   "cell_type": "code",
   "execution_count": null,
   "metadata": {},
   "outputs": [],
   "source": [
    "# install scikit-learn for example dataset\n",
    "!pip install scikit-learn==1.1.2"
   ]
  },
  {
   "cell_type": "markdown",
   "metadata": {},
   "source": [
    "### Imports"
   ]
  },
  {
   "cell_type": "code",
   "execution_count": null,
   "metadata": {},
   "outputs": [],
   "source": [
    "from explainit.app import build\n",
    "\n",
    "import pandas as pd\n",
    "from sklearn import datasets\n",
    "from sklearn.model_selection import train_test_split"
   ]
  },
  {
   "cell_type": "markdown",
   "metadata": {},
   "source": [
    "### Load Dataset"
   ]
  },
  {
   "cell_type": "code",
   "execution_count": null,
   "metadata": {},
   "outputs": [],
   "source": [
    "cancer_data = datasets.load_breast_cancer()\n",
    "cancer_dataframe = pd.DataFrame(cancer_data.data, columns = cancer_data.feature_names)\n",
    "cancer_dataframe['target'] = cancer_data.target\n",
    "ref_data, prod_data = train_test_split(cancer_dataframe, train_size=0.80, shuffle=True)"
   ]
  },
  {
   "cell_type": "markdown",
   "metadata": {},
   "source": [
    "### Initiate App"
   ]
  },
  {
   "cell_type": "markdown",
   "metadata": {},
   "source": [
    "`build` function from `explainit` will require following parameters to run:\n",
    "- `reference_data`: Reference dataset\n",
    "- `production_data`: Production dataset\n",
    "- `target_col_name`: Target column name\n",
    "- `target_col_type`: Target column nype (`\"num\"`: Numerical or `\"cat\"`: Categorical)\n",
    "- `datetime_col_name`: Optional datetime column name (default: None)\n",
    "- `host`: Host address where you want to deploy/run the app eg: `\"127.0.0.1\"` or `\"localhost\"` (default: `\"0.0.0.0\"`)\n",
    "- `port`: Port where you want to deploy/run the app eg: `\"8000\"` (default: `\"8050\"`)"
   ]
  },
  {
   "cell_type": "code",
   "execution_count": null,
   "metadata": {},
   "outputs": [],
   "source": [
    "build(\n",
    "    reference_data=ref_data,\n",
    "    production_data=prod_data,\n",
    "    target_col_name=\"target\",\n",
    "    target_col_type=\"cat\",\n",
    "    host='127.0.0.1',\n",
    "    port='8000'\n",
    ")"
   ]
  },
  {
   "cell_type": "code",
   "execution_count": null,
   "metadata": {},
   "outputs": [],
   "source": []
  }
 ],
 "metadata": {
  "kernelspec": {
   "display_name": "Python 3.9.7 ('base')",
   "language": "python",
   "name": "python3"
  },
  "language_info": {
   "name": "python",
   "version": "3.9.7"
  },
  "orig_nbformat": 4,
  "vscode": {
   "interpreter": {
    "hash": "de7c534ced4c91973cabd96bad35a2762c7a57b0986e9ee4825d203524d682ef"
   }
  }
 },
 "nbformat": 4,
 "nbformat_minor": 2
}
