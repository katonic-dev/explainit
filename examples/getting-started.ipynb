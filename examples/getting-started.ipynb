{
 "cells": [
  {
   "cell_type": "markdown",
   "metadata": {},
   "source": [
    "# Getting Started with Explainit"
   ]
  },
  {
   "cell_type": "code",
   "execution_count": null,
   "metadata": {},
   "outputs": [],
   "source": [
    "# install explainit\n",
    "!pip install --upgrade explainit"
   ]
  },
  {
   "cell_type": "code",
   "execution_count": null,
   "metadata": {},
   "outputs": [],
   "source": [
    "# install scikit-learn for example dataset\n",
    "!pip install scikit-learn==1.1.2"
   ]
  },
  {
   "cell_type": "markdown",
   "metadata": {},
   "source": [
    "### Imports"
   ]
  },
  {
   "cell_type": "code",
   "execution_count": 3,
   "metadata": {},
   "outputs": [],
   "source": [
    "from explainit.app import build\n",
    "import pandas as pd"
   ]
  },
  {
   "cell_type": "markdown",
   "metadata": {},
   "source": [
    "### Load `Default Loan` Dataset"
   ]
  },
  {
   "cell_type": "code",
   "execution_count": 4,
   "metadata": {},
   "outputs": [],
   "source": [
    "ref_data = pd.read_csv(\"https://raw.githubusercontent.com/katonic-dev/explainit/master/examples/data/reference_data.csv\", index_col=None)\n",
    "prod_data = pd.read_csv(\"https://raw.githubusercontent.com/katonic-dev/explainit/master/examples/data/production_data.csv\", index_col=None)"
   ]
  },
  {
   "cell_type": "markdown",
   "metadata": {},
   "source": [
    "### Initiate App"
   ]
  },
  {
   "cell_type": "markdown",
   "metadata": {},
   "source": [
    "`build` function from `explainit` will require following parameters to run:\n",
    "- `reference_data`: Reference dataset\n",
    "- `production_data`: Production dataset\n",
    "- `target_col_name`: Target column name\n",
    "- `target_col_type`: Target column nype (`\"num\"`: Numerical or `\"cat\"`: Categorical)\n",
    "- `datetime_col_name`: Optional datetime column name (default: None)\n",
    "- `host`: Host address where you want to deploy/run the app eg: `\"127.0.0.1\"` or `\"localhost\"` (default: `\"0.0.0.0\"`)\n",
    "- `port`: Port where you want to deploy/run the app eg: `\"8000\"` (default: `\"8050\"`)"
   ]
  },
  {
   "cell_type": "code",
   "execution_count": 5,
   "metadata": {},
   "outputs": [
    {
     "name": "stdout",
     "output_type": "stream",
     "text": [
      "Initiating \u001b[1m\u001b[32mExplainit App\u001b[0m...\n",
      "Dash is running on http://127.0.0.1:8000/\n",
      "\n",
      " * Serving Flask app 'explainit.app'\n",
      " * Debug mode: off\n"
     ]
    }
   ],
   "source": [
    "build(\n",
    "    reference_data=ref_data,\n",
    "    production_data=prod_data,\n",
    "    target_col_name=\"bad_loan\",\n",
    "    target_col_type=\"cat\",\n",
    "    host='127.0.0.1',\n",
    "    port='8000'\n",
    ")"
   ]
  },
  {
   "cell_type": "code",
   "execution_count": null,
   "metadata": {},
   "outputs": [],
   "source": []
  }
 ],
 "metadata": {
  "kernelspec": {
   "display_name": "Python 3.9.7 ('env': venv)",
   "language": "python",
   "name": "python3"
  },
  "language_info": {
   "codemirror_mode": {
    "name": "ipython",
    "version": 3
   },
   "file_extension": ".py",
   "mimetype": "text/x-python",
   "name": "python",
   "nbconvert_exporter": "python",
   "pygments_lexer": "ipython3",
   "version": "3.9.7"
  },
  "orig_nbformat": 4,
  "vscode": {
   "interpreter": {
    "hash": "713ebf24544bda2918c39e5b8ac343b7923d1ef0e8be7627e7fd216eb5502e9c"
   }
  }
 },
 "nbformat": 4,
 "nbformat_minor": 2
}
